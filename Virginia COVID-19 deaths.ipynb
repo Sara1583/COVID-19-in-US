{
 "cells": [
  {
   "cell_type": "code",
   "execution_count": 1,
   "metadata": {},
   "outputs": [],
   "source": [
    "import pandas as pd\n",
    "import numpy as np\n",
    "import matplotlib.pyplot as plt\n",
    "%matplotlib inline\n",
    "import seaborn as sns"
   ]
  },
  {
   "cell_type": "code",
   "execution_count": 2,
   "metadata": {},
   "outputs": [],
   "source": [
    "dates = ['march 14, 2020', 'march 15, 2020', 'march 16, 2020', 'march 17, 2020', 'march 18, 2020', 'march 19, 2020', 'march 20, 2020', 'march 21, 2020', 'march 22, 2020', \n",
    "         'march 23, 2020', 'march 24, 2020', 'march 25, 2020', 'march 26, 2020', 'march 27, 2020', 'march 28, 2020', 'march 29, 2020', 'march 30, 2020', 'march 31, 2020', \n",
    "         'april 1, 2020', 'april 2, 2020', 'april 3, 2020', 'april 4, 2020', 'april 5, 2020', 'april 6, 2020', 'april 7, 2020', 'april 8, 2020', 'april 9, 2020', 'april 10, 2020',\n",
    "         'april 11, 2020', 'april 12, 2020', 'april 13, 2020', 'april 14, 2020', 'april 15, 2020', 'april 16, 2020', 'april 17, 2020', 'april 18, 2020', 'april 19, 2020', 'april 20, 2020',\n",
    "         'april 21, 2020', 'april 22, 2020', 'april 23, 2020', 'april 24, 2020', 'april 25, 2020', 'april 26, 2020', 'april 27, 2020', 'april 28, 2020', 'april 29, 2020', 'april 30, 2020']"
   ]
  },
  {
   "cell_type": "code",
   "execution_count": 16,
   "metadata": {},
   "outputs": [],
   "source": [
    "deaths_per_day = [1, 0, 1, 0, 0, 0, 0, 0, 1, 4, 0, 2, 0, 5, 3, 5]"
   ]
  },
  {
   "cell_type": "code",
   "execution_count": 17,
   "metadata": {},
   "outputs": [],
   "source": [
    "Virginia_deaths = pd.DataFrame(list(zip(dates, deaths_per_day)))"
   ]
  },
  {
   "cell_type": "code",
   "execution_count": 18,
   "metadata": {},
   "outputs": [
    {
     "name": "stdout",
     "output_type": "stream",
     "text": [
      "                 0  1\n",
      "0   march 14, 2020  1\n",
      "1   march 15, 2020  0\n",
      "2   march 16, 2020  1\n",
      "3   march 17, 2020  0\n",
      "4   march 18, 2020  0\n",
      "5   march 19, 2020  0\n",
      "6   march 20, 2020  0\n",
      "7   march 21, 2020  0\n",
      "8   march 22, 2020  1\n",
      "9   march 23, 2020  4\n",
      "10  march 24, 2020  0\n",
      "11  march 25, 2020  2\n",
      "12  march 26, 2020  0\n",
      "13  march 27, 2020  5\n",
      "14  march 28, 2020  3\n",
      "15  march 29, 2020  5\n"
     ]
    }
   ],
   "source": [
    "print(Virginia_deaths)"
   ]
  },
  {
   "cell_type": "code",
   "execution_count": 19,
   "metadata": {},
   "outputs": [],
   "source": [
    "Virginia_deaths.columns = ['date', 'deaths']"
   ]
  },
  {
   "cell_type": "code",
   "execution_count": 20,
   "metadata": {},
   "outputs": [
    {
     "data": {
      "text/html": [
       "<div>\n",
       "<style scoped>\n",
       "    .dataframe tbody tr th:only-of-type {\n",
       "        vertical-align: middle;\n",
       "    }\n",
       "\n",
       "    .dataframe tbody tr th {\n",
       "        vertical-align: top;\n",
       "    }\n",
       "\n",
       "    .dataframe thead th {\n",
       "        text-align: right;\n",
       "    }\n",
       "</style>\n",
       "<table border=\"1\" class=\"dataframe\">\n",
       "  <thead>\n",
       "    <tr style=\"text-align: right;\">\n",
       "      <th></th>\n",
       "      <th>deaths</th>\n",
       "    </tr>\n",
       "    <tr>\n",
       "      <th>date</th>\n",
       "      <th></th>\n",
       "    </tr>\n",
       "  </thead>\n",
       "  <tbody>\n",
       "    <tr>\n",
       "      <th>march 14, 2020</th>\n",
       "      <td>1</td>\n",
       "    </tr>\n",
       "    <tr>\n",
       "      <th>march 15, 2020</th>\n",
       "      <td>0</td>\n",
       "    </tr>\n",
       "    <tr>\n",
       "      <th>march 16, 2020</th>\n",
       "      <td>1</td>\n",
       "    </tr>\n",
       "    <tr>\n",
       "      <th>march 17, 2020</th>\n",
       "      <td>0</td>\n",
       "    </tr>\n",
       "    <tr>\n",
       "      <th>march 18, 2020</th>\n",
       "      <td>0</td>\n",
       "    </tr>\n",
       "    <tr>\n",
       "      <th>march 19, 2020</th>\n",
       "      <td>0</td>\n",
       "    </tr>\n",
       "    <tr>\n",
       "      <th>march 20, 2020</th>\n",
       "      <td>0</td>\n",
       "    </tr>\n",
       "    <tr>\n",
       "      <th>march 21, 2020</th>\n",
       "      <td>0</td>\n",
       "    </tr>\n",
       "    <tr>\n",
       "      <th>march 22, 2020</th>\n",
       "      <td>1</td>\n",
       "    </tr>\n",
       "    <tr>\n",
       "      <th>march 23, 2020</th>\n",
       "      <td>4</td>\n",
       "    </tr>\n",
       "    <tr>\n",
       "      <th>march 24, 2020</th>\n",
       "      <td>0</td>\n",
       "    </tr>\n",
       "    <tr>\n",
       "      <th>march 25, 2020</th>\n",
       "      <td>2</td>\n",
       "    </tr>\n",
       "    <tr>\n",
       "      <th>march 26, 2020</th>\n",
       "      <td>0</td>\n",
       "    </tr>\n",
       "    <tr>\n",
       "      <th>march 27, 2020</th>\n",
       "      <td>5</td>\n",
       "    </tr>\n",
       "    <tr>\n",
       "      <th>march 28, 2020</th>\n",
       "      <td>3</td>\n",
       "    </tr>\n",
       "    <tr>\n",
       "      <th>march 29, 2020</th>\n",
       "      <td>5</td>\n",
       "    </tr>\n",
       "  </tbody>\n",
       "</table>\n",
       "</div>"
      ],
      "text/plain": [
       "                deaths\n",
       "date                  \n",
       "march 14, 2020       1\n",
       "march 15, 2020       0\n",
       "march 16, 2020       1\n",
       "march 17, 2020       0\n",
       "march 18, 2020       0\n",
       "march 19, 2020       0\n",
       "march 20, 2020       0\n",
       "march 21, 2020       0\n",
       "march 22, 2020       1\n",
       "march 23, 2020       4\n",
       "march 24, 2020       0\n",
       "march 25, 2020       2\n",
       "march 26, 2020       0\n",
       "march 27, 2020       5\n",
       "march 28, 2020       3\n",
       "march 29, 2020       5"
      ]
     },
     "execution_count": 20,
     "metadata": {},
     "output_type": "execute_result"
    }
   ],
   "source": [
    "Virginia_deaths.set_index('date')"
   ]
  },
  {
   "cell_type": "code",
   "execution_count": 71,
   "metadata": {},
   "outputs": [
    {
     "data": {
      "image/png": "[encoded data removed]",
      "text/plain": [
       "<matplotlib.figure.Figure at 0x109913780>"
      ]
     },
     "metadata": {
      "needs_background": "light"
     },
     "output_type": "display_data"
    }
   ],
   "source": [
    "plt.figure(figsize=(12, 9))\n",
    "death_daily = sns.barplot(x='date', y='deaths', data=Virginia_deaths)\n",
    "for p in death_daily.patches:\n",
    "    death_daily.annotate(format(p.get_height(), '.2f'), (p.get_x() + p.get_width()/2., p.get_height()), ha='center', va='center', xytext=(0,10), textcoords='offset points')\n",
    "plt.xticks(rotation=60)\n",
    "plt.title('Virginia COVID-19 deaths by day')\n",
    "plt.show()"
   ]
  },
  {
   "cell_type": "code",
   "execution_count": 74,
   "metadata": {},
   "outputs": [
    {
     "data": {
      "image/png": "[encoded data removed]",
      "text/plain": [
       "<matplotlib.figure.Figure at 0x1a1965ef60>"
      ]
     },
     "metadata": {
      "needs_background": "light"
     },
     "output_type": "display_data"
    }
   ],
   "source": [
    "plt.figure(figsize=(12, 9))\n",
    "death_plot = sns.barplot(x='date', y=Virginia_deaths.deaths.cumsum(), data=Virginia_deaths)\n",
    "for p in death_plot.patches:\n",
    "    death_plot.annotate(format(p.get_height(), '.2f'), (p.get_x() + p.get_width()/2., p.get_height()), ha='center', va='center', xytext=(0,10), textcoords='offset points')\n",
    "plt.xticks(rotation=60)\n",
    "plt.title('Virginia cumulative COVID-19 deaths')\n",
    "#plt.savefig('Viginia cumulative COVID-19 deaths as of March 29')\n",
    "plt.show()"
   ]
  },
  {
   "cell_type": "code",
   "execution_count": null,
   "metadata": {},
   "outputs": [],
   "source": []
  }
 ],
 "metadata": {
  "kernelspec": {
   "display_name": "Python 3",
   "language": "python",
   "name": "python3"
  },
  "language_info": {
   "codemirror_mode": {
    "name": "ipython",
    "version": 3
   },
   "file_extension": ".py",
   "mimetype": "text/x-python",
   "name": "python",
   "nbconvert_exporter": "python",
   "pygments_lexer": "ipython3",
   "version": "3.6.4"
  }
 },
 "nbformat": 4,
 "nbformat_minor": 2
}
